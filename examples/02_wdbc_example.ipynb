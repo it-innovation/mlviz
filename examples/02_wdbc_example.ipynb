{
 "cells": [
  {
   "cell_type": "code",
   "execution_count": 1,
   "metadata": {},
   "outputs": [
    {
     "data": {
      "text/html": [
       "\n",
       "    <div class=\"bk-root\">\n",
       "        <a href=\"https://bokeh.pydata.org\" target=\"_blank\" class=\"bk-logo bk-logo-small bk-logo-notebook\"></a>\n",
       "        <span id=\"1001\">Loading BokehJS ...</span>\n",
       "    </div>"
      ]
     },
     "metadata": {},
     "output_type": "display_data"
    },
    {
     "data": {
      "application/javascript": [
       "\n",
       "(function(root) {\n",
       "  function now() {\n",
       "    return new Date();\n",
       "  }\n",
       "\n",
       "  var force = true;\n",
       "\n",
       "  if (typeof (root._bokeh_onload_callbacks) === \"undefined\" || force === true) {\n",
       "    root._bokeh_onload_callbacks = [];\n",
       "    root._bokeh_is_loading = undefined;\n",
       "  }\n",
       "\n",
       "  var JS_MIME_TYPE = 'application/javascript';\n",
       "  var HTML_MIME_TYPE = 'text/html';\n",
       "  var EXEC_MIME_TYPE = 'application/vnd.bokehjs_exec.v0+json';\n",
       "  var CLASS_NAME = 'output_bokeh rendered_html';\n",
       "\n",
       "  /**\n",
       "   * Render data to the DOM node\n",
       "   */\n",
       "  function render(props, node) {\n",
       "    var script = document.createElement(\"script\");\n",
       "    node.appendChild(script);\n",
       "  }\n",
       "\n",
       "  /**\n",
       "   * Handle when an output is cleared or removed\n",
       "   */\n",
       "  function handleClearOutput(event, handle) {\n",
       "    var cell = handle.cell;\n",
       "\n",
       "    var id = cell.output_area._bokeh_element_id;\n",
       "    var server_id = cell.output_area._bokeh_server_id;\n",
       "    // Clean up Bokeh references\n",
       "    if (id != null && id in Bokeh.index) {\n",
       "      Bokeh.index[id].model.document.clear();\n",
       "      delete Bokeh.index[id];\n",
       "    }\n",
       "\n",
       "    if (server_id !== undefined) {\n",
       "      // Clean up Bokeh references\n",
       "      var cmd = \"from bokeh.io.state import curstate; print(curstate().uuid_to_server['\" + server_id + \"'].get_sessions()[0].document.roots[0]._id)\";\n",
       "      cell.notebook.kernel.execute(cmd, {\n",
       "        iopub: {\n",
       "          output: function(msg) {\n",
       "            var id = msg.content.text.trim();\n",
       "            if (id in Bokeh.index) {\n",
       "              Bokeh.index[id].model.document.clear();\n",
       "              delete Bokeh.index[id];\n",
       "            }\n",
       "          }\n",
       "        }\n",
       "      });\n",
       "      // Destroy server and session\n",
       "      var cmd = \"import bokeh.io.notebook as ion; ion.destroy_server('\" + server_id + \"')\";\n",
       "      cell.notebook.kernel.execute(cmd);\n",
       "    }\n",
       "  }\n",
       "\n",
       "  /**\n",
       "   * Handle when a new output is added\n",
       "   */\n",
       "  function handleAddOutput(event, handle) {\n",
       "    var output_area = handle.output_area;\n",
       "    var output = handle.output;\n",
       "\n",
       "    // limit handleAddOutput to display_data with EXEC_MIME_TYPE content only\n",
       "    if ((output.output_type != \"display_data\") || (!output.data.hasOwnProperty(EXEC_MIME_TYPE))) {\n",
       "      return\n",
       "    }\n",
       "\n",
       "    var toinsert = output_area.element.find(\".\" + CLASS_NAME.split(' ')[0]);\n",
       "\n",
       "    if (output.metadata[EXEC_MIME_TYPE][\"id\"] !== undefined) {\n",
       "      toinsert[toinsert.length - 1].firstChild.textContent = output.data[JS_MIME_TYPE];\n",
       "      // store reference to embed id on output_area\n",
       "      output_area._bokeh_element_id = output.metadata[EXEC_MIME_TYPE][\"id\"];\n",
       "    }\n",
       "    if (output.metadata[EXEC_MIME_TYPE][\"server_id\"] !== undefined) {\n",
       "      var bk_div = document.createElement(\"div\");\n",
       "      bk_div.innerHTML = output.data[HTML_MIME_TYPE];\n",
       "      var script_attrs = bk_div.children[0].attributes;\n",
       "      for (var i = 0; i < script_attrs.length; i++) {\n",
       "        toinsert[toinsert.length - 1].firstChild.setAttribute(script_attrs[i].name, script_attrs[i].value);\n",
       "      }\n",
       "      // store reference to server id on output_area\n",
       "      output_area._bokeh_server_id = output.metadata[EXEC_MIME_TYPE][\"server_id\"];\n",
       "    }\n",
       "  }\n",
       "\n",
       "  function register_renderer(events, OutputArea) {\n",
       "\n",
       "    function append_mime(data, metadata, element) {\n",
       "      // create a DOM node to render to\n",
       "      var toinsert = this.create_output_subarea(\n",
       "        metadata,\n",
       "        CLASS_NAME,\n",
       "        EXEC_MIME_TYPE\n",
       "      );\n",
       "      this.keyboard_manager.register_events(toinsert);\n",
       "      // Render to node\n",
       "      var props = {data: data, metadata: metadata[EXEC_MIME_TYPE]};\n",
       "      render(props, toinsert[toinsert.length - 1]);\n",
       "      element.append(toinsert);\n",
       "      return toinsert\n",
       "    }\n",
       "\n",
       "    /* Handle when an output is cleared or removed */\n",
       "    events.on('clear_output.CodeCell', handleClearOutput);\n",
       "    events.on('delete.Cell', handleClearOutput);\n",
       "\n",
       "    /* Handle when a new output is added */\n",
       "    events.on('output_added.OutputArea', handleAddOutput);\n",
       "\n",
       "    /**\n",
       "     * Register the mime type and append_mime function with output_area\n",
       "     */\n",
       "    OutputArea.prototype.register_mime_type(EXEC_MIME_TYPE, append_mime, {\n",
       "      /* Is output safe? */\n",
       "      safe: true,\n",
       "      /* Index of renderer in `output_area.display_order` */\n",
       "      index: 0\n",
       "    });\n",
       "  }\n",
       "\n",
       "  // register the mime type if in Jupyter Notebook environment and previously unregistered\n",
       "  if (root.Jupyter !== undefined) {\n",
       "    var events = require('base/js/events');\n",
       "    var OutputArea = require('notebook/js/outputarea').OutputArea;\n",
       "\n",
       "    if (OutputArea.prototype.mime_types().indexOf(EXEC_MIME_TYPE) == -1) {\n",
       "      register_renderer(events, OutputArea);\n",
       "    }\n",
       "  }\n",
       "\n",
       "  \n",
       "  if (typeof (root._bokeh_timeout) === \"undefined\" || force === true) {\n",
       "    root._bokeh_timeout = Date.now() + 5000;\n",
       "    root._bokeh_failed_load = false;\n",
       "  }\n",
       "\n",
       "  var NB_LOAD_WARNING = {'data': {'text/html':\n",
       "     \"<div style='background-color: #fdd'>\\n\"+\n",
       "     \"<p>\\n\"+\n",
       "     \"BokehJS does not appear to have successfully loaded. If loading BokehJS from CDN, this \\n\"+\n",
       "     \"may be due to a slow or bad network connection. Possible fixes:\\n\"+\n",
       "     \"</p>\\n\"+\n",
       "     \"<ul>\\n\"+\n",
       "     \"<li>re-rerun `output_notebook()` to attempt to load from CDN again, or</li>\\n\"+\n",
       "     \"<li>use INLINE resources instead, as so:</li>\\n\"+\n",
       "     \"</ul>\\n\"+\n",
       "     \"<code>\\n\"+\n",
       "     \"from bokeh.resources import INLINE\\n\"+\n",
       "     \"output_notebook(resources=INLINE)\\n\"+\n",
       "     \"</code>\\n\"+\n",
       "     \"</div>\"}};\n",
       "\n",
       "  function display_loaded() {\n",
       "    var el = document.getElementById(\"1001\");\n",
       "    if (el != null) {\n",
       "      el.textContent = \"BokehJS is loading...\";\n",
       "    }\n",
       "    if (root.Bokeh !== undefined) {\n",
       "      if (el != null) {\n",
       "        el.textContent = \"BokehJS \" + root.Bokeh.version + \" successfully loaded.\";\n",
       "      }\n",
       "    } else if (Date.now() < root._bokeh_timeout) {\n",
       "      setTimeout(display_loaded, 100)\n",
       "    }\n",
       "  }\n",
       "\n",
       "\n",
       "  function run_callbacks() {\n",
       "    try {\n",
       "      root._bokeh_onload_callbacks.forEach(function(callback) { callback() });\n",
       "    }\n",
       "    finally {\n",
       "      delete root._bokeh_onload_callbacks\n",
       "    }\n",
       "    console.info(\"Bokeh: all callbacks have finished\");\n",
       "  }\n",
       "\n",
       "  function load_libs(js_urls, callback) {\n",
       "    root._bokeh_onload_callbacks.push(callback);\n",
       "    if (root._bokeh_is_loading > 0) {\n",
       "      console.log(\"Bokeh: BokehJS is being loaded, scheduling callback at\", now());\n",
       "      return null;\n",
       "    }\n",
       "    if (js_urls == null || js_urls.length === 0) {\n",
       "      run_callbacks();\n",
       "      return null;\n",
       "    }\n",
       "    console.log(\"Bokeh: BokehJS not loaded, scheduling load and callback at\", now());\n",
       "    root._bokeh_is_loading = js_urls.length;\n",
       "    for (var i = 0; i < js_urls.length; i++) {\n",
       "      var url = js_urls[i];\n",
       "      var s = document.createElement('script');\n",
       "      s.src = url;\n",
       "      s.async = false;\n",
       "      s.onreadystatechange = s.onload = function() {\n",
       "        root._bokeh_is_loading--;\n",
       "        if (root._bokeh_is_loading === 0) {\n",
       "          console.log(\"Bokeh: all BokehJS libraries loaded\");\n",
       "          run_callbacks()\n",
       "        }\n",
       "      };\n",
       "      s.onerror = function() {\n",
       "        console.warn(\"failed to load library \" + url);\n",
       "      };\n",
       "      console.log(\"Bokeh: injecting script tag for BokehJS library: \", url);\n",
       "      document.getElementsByTagName(\"head\")[0].appendChild(s);\n",
       "    }\n",
       "  };var element = document.getElementById(\"1001\");\n",
       "  if (element == null) {\n",
       "    console.log(\"Bokeh: ERROR: autoload.js configured with elementid '1001' but no matching script tag was found. \")\n",
       "    return false;\n",
       "  }\n",
       "\n",
       "  var js_urls = [\"https://cdn.pydata.org/bokeh/release/bokeh-1.0.4.min.js\", \"https://cdn.pydata.org/bokeh/release/bokeh-widgets-1.0.4.min.js\", \"https://cdn.pydata.org/bokeh/release/bokeh-tables-1.0.4.min.js\", \"https://cdn.pydata.org/bokeh/release/bokeh-gl-1.0.4.min.js\"];\n",
       "\n",
       "  var inline_js = [\n",
       "    function(Bokeh) {\n",
       "      Bokeh.set_log_level(\"info\");\n",
       "    },\n",
       "    \n",
       "    function(Bokeh) {\n",
       "      \n",
       "    },\n",
       "    function(Bokeh) {\n",
       "      console.log(\"Bokeh: injecting CSS: https://cdn.pydata.org/bokeh/release/bokeh-1.0.4.min.css\");\n",
       "      Bokeh.embed.inject_css(\"https://cdn.pydata.org/bokeh/release/bokeh-1.0.4.min.css\");\n",
       "      console.log(\"Bokeh: injecting CSS: https://cdn.pydata.org/bokeh/release/bokeh-widgets-1.0.4.min.css\");\n",
       "      Bokeh.embed.inject_css(\"https://cdn.pydata.org/bokeh/release/bokeh-widgets-1.0.4.min.css\");\n",
       "      console.log(\"Bokeh: injecting CSS: https://cdn.pydata.org/bokeh/release/bokeh-tables-1.0.4.min.css\");\n",
       "      Bokeh.embed.inject_css(\"https://cdn.pydata.org/bokeh/release/bokeh-tables-1.0.4.min.css\");\n",
       "    }\n",
       "  ];\n",
       "\n",
       "  function run_inline_js() {\n",
       "    \n",
       "    if ((root.Bokeh !== undefined) || (force === true)) {\n",
       "      for (var i = 0; i < inline_js.length; i++) {\n",
       "        inline_js[i].call(root, root.Bokeh);\n",
       "      }if (force === true) {\n",
       "        display_loaded();\n",
       "      }} else if (Date.now() < root._bokeh_timeout) {\n",
       "      setTimeout(run_inline_js, 100);\n",
       "    } else if (!root._bokeh_failed_load) {\n",
       "      console.log(\"Bokeh: BokehJS failed to load within specified timeout.\");\n",
       "      root._bokeh_failed_load = true;\n",
       "    } else if (force !== true) {\n",
       "      var cell = $(document.getElementById(\"1001\")).parents('.cell').data().cell;\n",
       "      cell.output_area.append_execute_result(NB_LOAD_WARNING)\n",
       "    }\n",
       "\n",
       "  }\n",
       "\n",
       "  if (root._bokeh_is_loading === 0) {\n",
       "    console.log(\"Bokeh: BokehJS loaded, going straight to plotting\");\n",
       "    run_inline_js();\n",
       "  } else {\n",
       "    load_libs(js_urls, function() {\n",
       "      console.log(\"Bokeh: BokehJS plotting callback run at\", now());\n",
       "      run_inline_js();\n",
       "    });\n",
       "  }\n",
       "}(window));"
      ],
      "application/vnd.bokehjs_load.v0+json": "\n(function(root) {\n  function now() {\n    return new Date();\n  }\n\n  var force = true;\n\n  if (typeof (root._bokeh_onload_callbacks) === \"undefined\" || force === true) {\n    root._bokeh_onload_callbacks = [];\n    root._bokeh_is_loading = undefined;\n  }\n\n  \n\n  \n  if (typeof (root._bokeh_timeout) === \"undefined\" || force === true) {\n    root._bokeh_timeout = Date.now() + 5000;\n    root._bokeh_failed_load = false;\n  }\n\n  var NB_LOAD_WARNING = {'data': {'text/html':\n     \"<div style='background-color: #fdd'>\\n\"+\n     \"<p>\\n\"+\n     \"BokehJS does not appear to have successfully loaded. If loading BokehJS from CDN, this \\n\"+\n     \"may be due to a slow or bad network connection. Possible fixes:\\n\"+\n     \"</p>\\n\"+\n     \"<ul>\\n\"+\n     \"<li>re-rerun `output_notebook()` to attempt to load from CDN again, or</li>\\n\"+\n     \"<li>use INLINE resources instead, as so:</li>\\n\"+\n     \"</ul>\\n\"+\n     \"<code>\\n\"+\n     \"from bokeh.resources import INLINE\\n\"+\n     \"output_notebook(resources=INLINE)\\n\"+\n     \"</code>\\n\"+\n     \"</div>\"}};\n\n  function display_loaded() {\n    var el = document.getElementById(\"1001\");\n    if (el != null) {\n      el.textContent = \"BokehJS is loading...\";\n    }\n    if (root.Bokeh !== undefined) {\n      if (el != null) {\n        el.textContent = \"BokehJS \" + root.Bokeh.version + \" successfully loaded.\";\n      }\n    } else if (Date.now() < root._bokeh_timeout) {\n      setTimeout(display_loaded, 100)\n    }\n  }\n\n\n  function run_callbacks() {\n    try {\n      root._bokeh_onload_callbacks.forEach(function(callback) { callback() });\n    }\n    finally {\n      delete root._bokeh_onload_callbacks\n    }\n    console.info(\"Bokeh: all callbacks have finished\");\n  }\n\n  function load_libs(js_urls, callback) {\n    root._bokeh_onload_callbacks.push(callback);\n    if (root._bokeh_is_loading > 0) {\n      console.log(\"Bokeh: BokehJS is being loaded, scheduling callback at\", now());\n      return null;\n    }\n    if (js_urls == null || js_urls.length === 0) {\n      run_callbacks();\n      return null;\n    }\n    console.log(\"Bokeh: BokehJS not loaded, scheduling load and callback at\", now());\n    root._bokeh_is_loading = js_urls.length;\n    for (var i = 0; i < js_urls.length; i++) {\n      var url = js_urls[i];\n      var s = document.createElement('script');\n      s.src = url;\n      s.async = false;\n      s.onreadystatechange = s.onload = function() {\n        root._bokeh_is_loading--;\n        if (root._bokeh_is_loading === 0) {\n          console.log(\"Bokeh: all BokehJS libraries loaded\");\n          run_callbacks()\n        }\n      };\n      s.onerror = function() {\n        console.warn(\"failed to load library \" + url);\n      };\n      console.log(\"Bokeh: injecting script tag for BokehJS library: \", url);\n      document.getElementsByTagName(\"head\")[0].appendChild(s);\n    }\n  };var element = document.getElementById(\"1001\");\n  if (element == null) {\n    console.log(\"Bokeh: ERROR: autoload.js configured with elementid '1001' but no matching script tag was found. \")\n    return false;\n  }\n\n  var js_urls = [\"https://cdn.pydata.org/bokeh/release/bokeh-1.0.4.min.js\", \"https://cdn.pydata.org/bokeh/release/bokeh-widgets-1.0.4.min.js\", \"https://cdn.pydata.org/bokeh/release/bokeh-tables-1.0.4.min.js\", \"https://cdn.pydata.org/bokeh/release/bokeh-gl-1.0.4.min.js\"];\n\n  var inline_js = [\n    function(Bokeh) {\n      Bokeh.set_log_level(\"info\");\n    },\n    \n    function(Bokeh) {\n      \n    },\n    function(Bokeh) {\n      console.log(\"Bokeh: injecting CSS: https://cdn.pydata.org/bokeh/release/bokeh-1.0.4.min.css\");\n      Bokeh.embed.inject_css(\"https://cdn.pydata.org/bokeh/release/bokeh-1.0.4.min.css\");\n      console.log(\"Bokeh: injecting CSS: https://cdn.pydata.org/bokeh/release/bokeh-widgets-1.0.4.min.css\");\n      Bokeh.embed.inject_css(\"https://cdn.pydata.org/bokeh/release/bokeh-widgets-1.0.4.min.css\");\n      console.log(\"Bokeh: injecting CSS: https://cdn.pydata.org/bokeh/release/bokeh-tables-1.0.4.min.css\");\n      Bokeh.embed.inject_css(\"https://cdn.pydata.org/bokeh/release/bokeh-tables-1.0.4.min.css\");\n    }\n  ];\n\n  function run_inline_js() {\n    \n    if ((root.Bokeh !== undefined) || (force === true)) {\n      for (var i = 0; i < inline_js.length; i++) {\n        inline_js[i].call(root, root.Bokeh);\n      }if (force === true) {\n        display_loaded();\n      }} else if (Date.now() < root._bokeh_timeout) {\n      setTimeout(run_inline_js, 100);\n    } else if (!root._bokeh_failed_load) {\n      console.log(\"Bokeh: BokehJS failed to load within specified timeout.\");\n      root._bokeh_failed_load = true;\n    } else if (force !== true) {\n      var cell = $(document.getElementById(\"1001\")).parents('.cell').data().cell;\n      cell.output_area.append_execute_result(NB_LOAD_WARNING)\n    }\n\n  }\n\n  if (root._bokeh_is_loading === 0) {\n    console.log(\"Bokeh: BokehJS loaded, going straight to plotting\");\n    run_inline_js();\n  } else {\n    load_libs(js_urls, function() {\n      console.log(\"Bokeh: BokehJS plotting callback run at\", now());\n      run_inline_js();\n    });\n  }\n}(window));"
     },
     "metadata": {},
     "output_type": "display_data"
    }
   ],
   "source": [
    "# hack to allow importing from sibling directories\n",
    "#https://stackoverflow.com/questions/34478398/import-local-function-from-a-module-housed-in-another-directory-with-relative-im\n",
    "import os\n",
    "import sys\n",
    "module_path = os.path.abspath(os.path.join('..'))\n",
    "if module_path not in sys.path:\n",
    "    sys.path.append(module_path)\n",
    "\n",
    "from mlviz.dimensionality_reduction import HDVis\n",
    "from mlviz.data_visualisation import DraughtPlot\n",
    "\n",
    "import pandas as pd\n",
    "import numpy as np\n",
    "from sklearn.preprocessing import StandardScaler\n",
    "from sklearn.model_selection import StratifiedKFold\n",
    "\n",
    "\n",
    "# required bokeh imports\n",
    "from bokeh.io import output_notebook\n",
    "output_notebook()\n"
   ]
  },
  {
   "cell_type": "markdown",
   "metadata": {},
   "source": [
    "# Load a pre-process the data"
   ]
  },
  {
   "cell_type": "code",
   "execution_count": 2,
   "metadata": {},
   "outputs": [],
   "source": [
    "data = pd.read_csv('data/breast_cancer/wdbc.data', header=None)\n",
    "data = data.iloc[:,0:12]\n",
    "columns = ['id', 'target', 'radius', 'texture','perimeter', 'area', 'smoothness', 'compactness', 'concavity', 'concave points', 'symmetry', 'fractal dimension']\n",
    "data.columns = columns\n",
    "\n",
    "data.loc[data.target=='M','target'] = 0\n",
    "data.loc[data.target=='B','target'] = 1\n",
    "data.drop('id', inplace=True, axis=1)\n",
    "\n",
    "target = data['target'].values\n",
    "data.drop('target', inplace=True, axis=1)"
   ]
  },
  {
   "cell_type": "code",
   "execution_count": 3,
   "metadata": {},
   "outputs": [],
   "source": [
    "data_arr = StandardScaler().fit_transform(data)\n",
    "data_df = pd.DataFrame(data_arr, columns=data.columns)"
   ]
  },
  {
   "cell_type": "markdown",
   "metadata": {},
   "source": [
    "# Perform Exploratory analysis"
   ]
  },
  {
   "cell_type": "code",
   "execution_count": 4,
   "metadata": {},
   "outputs": [
    {
     "data": {
      "application/vnd.bokehjs_exec.v0+json": "",
      "text/html": [
       "\n",
       "<script src=\"http://localhost:64863/autoload.js?bokeh-autoload-element=1002&bokeh-absolute-url=http://localhost:64863&resources=none\" id=\"1002\"></script>"
      ]
     },
     "metadata": {
      "application/vnd.bokehjs_exec.v0+json": {
       "server_id": "37d9d35de79345a7b240ca8f7e471eb8"
      }
     },
     "output_type": "display_data"
    }
   ],
   "source": [
    "HDPlot = HDVis(data_df, target)"
   ]
  },
  {
   "cell_type": "code",
   "execution_count": 7,
   "metadata": {},
   "outputs": [],
   "source": [
    "X, y = HDPlot.get_brushed_data()"
   ]
  },
  {
   "cell_type": "code",
   "execution_count": 12,
   "metadata": {},
   "outputs": [
    {
     "data": {
      "application/vnd.bokehjs_exec.v0+json": "",
      "text/html": [
       "\n",
       "<script src=\"http://localhost:64896/autoload.js?bokeh-autoload-element=48579&bokeh-absolute-url=http://localhost:64896&resources=none\" id=\"48579\"></script>"
      ]
     },
     "metadata": {
      "application/vnd.bokehjs_exec.v0+json": {
       "server_id": "425049c1b1d44f05adfc93fa3fceb1d8"
      }
     },
     "output_type": "display_data"
    }
   ],
   "source": [
    "DMPlot = DraughtPlot(X, y, features=columns[2:6])"
   ]
  },
  {
   "cell_type": "code",
   "execution_count": 14,
   "metadata": {},
   "outputs": [],
   "source": [
    "# features which are highly correlated to other features.\n",
    "features_to_drop = ['perimeter', 'radius', 'concave points']"
   ]
  },
  {
   "cell_type": "markdown",
   "metadata": {},
   "source": [
    "# Build  a model \n",
    "\n",
    "Having performed some exploratory data analysis with the tool we can now attempt to build a model. Our exploratory analysis has taught us:\n",
    "\n",
    "- The data clusters well with UMAP and the classes are well seperated in the embedded space. We therefore expect to be able to develop an extremely strong classifier (>90 % accuracy). \n",
    "- The Draughtsman plot tool has identified some highly linearly correlated features, we are therefore able to drop these columns from our following analysis.\n",
    "- It has helped us identify some of the most useful features (area and fractal dimension look the most promising)."
   ]
  },
  {
   "cell_type": "code",
   "execution_count": 15,
   "metadata": {},
   "outputs": [],
   "source": [
    "from sklearn.svm import SVC\n",
    "from sklearn.model_selection import GridSearchCV, train_test_split\n",
    "from sklearn.metrics import accuracy_score"
   ]
  },
  {
   "cell_type": "code",
   "execution_count": 16,
   "metadata": {},
   "outputs": [],
   "source": [
    "# drop the features we learned were correlated.\n",
    "fit_df = data_df.drop(features_to_drop, axis=1)"
   ]
  },
  {
   "cell_type": "markdown",
   "metadata": {},
   "source": [
    "### Seach for optimal_parameters\n",
    "\n",
    "We can now perform a grid search of the hyperparameter space to find the optimal parameters of our model."
   ]
  },
  {
   "cell_type": "code",
   "execution_count": 17,
   "metadata": {},
   "outputs": [],
   "source": [
    "# generate a hold out test set to not allow the training algorithm to see. \n",
    "\n",
    "X_train, X_test, y_train, y_test = train_test_split(fit_df.to_numpy(), target)"
   ]
  },
  {
   "cell_type": "code",
   "execution_count": 18,
   "metadata": {},
   "outputs": [],
   "source": [
    "param_grid = {'C':[0.5,1,2,3], 'degree':[2,3,4,5,10], 'kernel':['poly']}"
   ]
  },
  {
   "cell_type": "code",
   "execution_count": 19,
   "metadata": {},
   "outputs": [
    {
     "name": "stderr",
     "output_type": "stream",
     "text": [
      "c:\\users\\fpc\\envs\\mlvis\\lib\\site-packages\\sklearn\\model_selection\\_search.py:841: DeprecationWarning: The default of the `iid` parameter will change from True to False in version 0.22 and will be removed in 0.24. This will change numeric results when test-set sizes are unequal.\n",
      "  DeprecationWarning)\n"
     ]
    }
   ],
   "source": [
    "svm = SVC(gamma=True)\n",
    "grid_search = GridSearchCV(svm, param_grid, cv=5)\n",
    "_ = grid_search.fit(X_train, y_train)\n",
    "\n",
    "svm_best = grid_search.best_estimator_"
   ]
  },
  {
   "cell_type": "code",
   "execution_count": 20,
   "metadata": {},
   "outputs": [],
   "source": [
    "_ = svm_best.fit(X_train, y_train)"
   ]
  },
  {
   "cell_type": "code",
   "execution_count": 21,
   "metadata": {},
   "outputs": [],
   "source": [
    "y_train_pred = svm_best.predict(X_train)\n",
    "y_test_pred = svm_best.predict(X_test)"
   ]
  },
  {
   "cell_type": "code",
   "execution_count": 22,
   "metadata": {},
   "outputs": [
    {
     "name": "stdout",
     "output_type": "stream",
     "text": [
      "Training score accuracy: 96.714\n",
      "Test score accuracy: 93.007\n"
     ]
    }
   ],
   "source": [
    "print('Training score accuracy: {0:.3f}'.format(100*accuracy_score(y_train, y_train_pred)))\n",
    "\n",
    "print('Test score accuracy: {0:.3f}'.format(100*accuracy_score(y_test, y_test_pred)))\n"
   ]
  },
  {
   "cell_type": "markdown",
   "metadata": {},
   "source": [
    "### The model\n",
    "\n",
    "We can see we have built a fairly successful model, achieving ~95% accuracy on the test set and ~96.7 % accuracy on the training set. This shows the model overfits slightly, however by removing correlated columns we actually reduced the level of overfitting. "
   ]
  },
  {
   "cell_type": "code",
   "execution_count": 10,
   "metadata": {},
   "outputs": [],
   "source": [
    "my_cat = Persian(12)"
   ]
  },
  {
   "cell_type": "code",
   "execution_count": 14,
   "metadata": {},
   "outputs": [
    {
     "data": {
      "text/plain": [
       "10"
      ]
     },
     "execution_count": 14,
     "metadata": {},
     "output_type": "execute_result"
    }
   ],
   "source": [
    "my_cat.claws"
   ]
  },
  {
   "cell_type": "code",
   "execution_count": 15,
   "metadata": {},
   "outputs": [
    {
     "data": {
      "text/plain": [
       "'[1, 2, 3]'"
      ]
     },
     "execution_count": 15,
     "metadata": {},
     "output_type": "execute_result"
    }
   ],
   "source": [
    "f'{[1,2,3]}'"
   ]
  },
  {
   "cell_type": "code",
   "execution_count": 23,
   "metadata": {},
   "outputs": [
    {
     "name": "stderr",
     "output_type": "stream",
     "text": [
      "c:\\users\\fpc\\envs\\mlvis\\lib\\site-packages\\sklearn\\linear_model\\logistic.py:433: FutureWarning: Default solver will be changed to 'lbfgs' in 0.22. Specify a solver to silence this warning.\n",
      "  FutureWarning)\n",
      "c:\\users\\fpc\\envs\\mlvis\\lib\\site-packages\\sklearn\\linear_model\\logistic.py:460: FutureWarning: Default multi_class will be changed to 'auto' in 0.22. Specify the multi_class option to silence this warning.\n",
      "  \"this warning.\", FutureWarning)\n",
      "c:\\users\\fpc\\envs\\mlvis\\lib\\site-packages\\sklearn\\svm\\base.py:196: FutureWarning: The default value of gamma will change from 'auto' to 'scale' in version 0.22 to account better for unscaled features. Set gamma explicitly to 'auto' or 'scale' to avoid this warning.\n",
      "  \"avoid this warning.\", FutureWarning)\n"
     ]
    }
   ],
   "source": [
    "from sklearn.datasets import load_iris\n",
    "from sklearn.linear_model import LogisticRegression\n",
    "from sklearn.svm import SVC\n",
    "X, y = load_iris(return_X_y=True)\n",
    "\n",
    " \n",
    "linear_clf = LogisticRegression(random_state=0).fit(X, y)\n",
    "svm_clf = SVC(probability=True).fit(X, y)\n",
    "                 \n"
   ]
  },
  {
   "cell_type": "code",
   "execution_count": 25,
   "metadata": {},
   "outputs": [],
   "source": [
    "svm_preds = svm_clf.predict_proba(X)\n",
    "log_preds = linear_clf.predict_proba(X)"
   ]
  },
  {
   "cell_type": "code",
   "execution_count": 35,
   "metadata": {},
   "outputs": [
    {
     "data": {
      "text/plain": [
       "array([[0.92496164, 0.06786523, 0.00717313],\n",
       "       [0.88272164, 0.10962562, 0.00765274],\n",
       "       [0.91129704, 0.08066888, 0.00803409],\n",
       "       [0.89406169, 0.09702742, 0.00891089],\n",
       "       [0.93384157, 0.05864598, 0.00751245],\n",
       "       [0.94248824, 0.04887878, 0.00863298],\n",
       "       [0.93047293, 0.06048517, 0.00904191],\n",
       "       [0.9151027 , 0.07756824, 0.00732907],\n",
       "       [0.88081282, 0.1088151 , 0.01037208],\n",
       "       [0.88006741, 0.11202238, 0.00791021],\n",
       "       [0.92881153, 0.06343281, 0.00775566],\n",
       "       [0.91397199, 0.07767339, 0.00835462],\n",
       "       [0.87685955, 0.11507626, 0.00806418],\n",
       "       [0.8962295 , 0.09150599, 0.0122645 ],\n",
       "       [0.9402203 , 0.04815877, 0.01162093],\n",
       "       [0.95512361, 0.03242464, 0.01245175],\n",
       "       [0.95349543, 0.03824681, 0.00825777],\n",
       "       [0.93095733, 0.06197304, 0.00706963],\n",
       "       [0.92278249, 0.0675395 , 0.00967801],\n",
       "       [0.94582026, 0.04635152, 0.00782822],\n",
       "       [0.89262718, 0.09890706, 0.00846576],\n",
       "       [0.94480482, 0.04761861, 0.00757657],\n",
       "       [0.94411264, 0.04422422, 0.01166314],\n",
       "       [0.90983654, 0.0816431 , 0.00852036],\n",
       "       [0.89367148, 0.09542315, 0.01090537],\n",
       "       [0.86744664, 0.12426912, 0.00828424],\n",
       "       [0.92242846, 0.06988917, 0.00768237],\n",
       "       [0.91886147, 0.07387291, 0.00726563],\n",
       "       [0.91438525, 0.07844367, 0.00717108],\n",
       "       [0.8968873 , 0.09436054, 0.00875215],\n",
       "       [0.88440897, 0.107233  , 0.00835803],\n",
       "       [0.91671663, 0.07551203, 0.00777134],\n",
       "       [0.94825881, 0.04198919, 0.009752  ],\n",
       "       [0.95279514, 0.03712982, 0.01007503],\n",
       "       [0.88822554, 0.10410222, 0.00767223],\n",
       "       [0.90885293, 0.08372352, 0.00742355],\n",
       "       [0.91708584, 0.07467443, 0.00823973],\n",
       "       [0.92915776, 0.06267116, 0.00817108],\n",
       "       [0.89625402, 0.09355361, 0.01019237],\n",
       "       [0.91281912, 0.0799516 , 0.00722928],\n",
       "       [0.93575839, 0.05698179, 0.00725982],\n",
       "       [0.81646325, 0.17060254, 0.01293421],\n",
       "       [0.91404899, 0.07542965, 0.01052135],\n",
       "       [0.9374719 , 0.05397347, 0.00855463],\n",
       "       [0.93207569, 0.05781877, 0.01010554],\n",
       "       [0.89283922, 0.09937287, 0.00778791],\n",
       "       [0.93787845, 0.05391383, 0.00820772],\n",
       "       [0.90860432, 0.08270903, 0.00868665],\n",
       "       [0.9313735 , 0.06106207, 0.00756443],\n",
       "       [0.91053565, 0.08229382, 0.00717053],\n",
       "       [0.02265129, 0.90515689, 0.07219183],\n",
       "       [0.02379049, 0.83704153, 0.13916799],\n",
       "       [0.01343316, 0.79063558, 0.19593125],\n",
       "       [0.00969296, 0.8103481 , 0.17995894],\n",
       "       [0.01015351, 0.8188951 , 0.17095139],\n",
       "       [0.00910907, 0.76773045, 0.22316048],\n",
       "       [0.01652212, 0.71366118, 0.26981669],\n",
       "       [0.06583743, 0.85571961, 0.07844296],\n",
       "       [0.01392011, 0.90024793, 0.08583196],\n",
       "       [0.02016646, 0.74595828, 0.23387526],\n",
       "       [0.02241599, 0.85553538, 0.12204864],\n",
       "       [0.02415166, 0.79964675, 0.17620159],\n",
       "       [0.01382675, 0.93300184, 0.05317141],\n",
       "       [0.00869555, 0.7560843 , 0.23522015],\n",
       "       [0.08834433, 0.84929798, 0.06235769],\n",
       "       [0.02919249, 0.91225208, 0.05855543],\n",
       "       [0.0104178 , 0.66472163, 0.32486056],\n",
       "       [0.02255027, 0.9202079 , 0.05724184],\n",
       "       [0.00654255, 0.73245264, 0.26100482],\n",
       "       [0.02102593, 0.89836902, 0.08060504],\n",
       "       [0.00912222, 0.3755371 , 0.61534069],\n",
       "       [0.03233671, 0.90518778, 0.0624755 ],\n",
       "       [0.00677418, 0.55734049, 0.43588533],\n",
       "       [0.00885769, 0.82970156, 0.16144075],\n",
       "       [0.02245633, 0.91321187, 0.0643318 ],\n",
       "       [0.02290125, 0.90515142, 0.07194732],\n",
       "       [0.01031767, 0.84141248, 0.14826985],\n",
       "       [0.00870749, 0.48803546, 0.50325705],\n",
       "       [0.01049097, 0.75359825, 0.23591078],\n",
       "       [0.06915172, 0.90869686, 0.02215142],\n",
       "       [0.0212748 , 0.89426992, 0.08445528],\n",
       "       [0.02897215, 0.91602131, 0.05500654],\n",
       "       [0.03151267, 0.90093963, 0.0675477 ],\n",
       "       [0.00533867, 0.28904755, 0.70561378],\n",
       "       [0.0098664 , 0.61540955, 0.37472405],\n",
       "       [0.02701384, 0.70899736, 0.2639888 ],\n",
       "       [0.01535776, 0.8389242 , 0.14571804],\n",
       "       [0.00809507, 0.86174516, 0.13015977],\n",
       "       [0.03161474, 0.82581755, 0.14256771],\n",
       "       [0.01343278, 0.82001338, 0.16655385],\n",
       "       [0.00805084, 0.7768347 , 0.21511446],\n",
       "       [0.01186556, 0.79286182, 0.19527262],\n",
       "       [0.02028417, 0.89406242, 0.08565341],\n",
       "       [0.05596826, 0.87268728, 0.07134447],\n",
       "       [0.01298719, 0.80904034, 0.17797247],\n",
       "       [0.02778033, 0.85870822, 0.11351145],\n",
       "       [0.02058387, 0.83051962, 0.14889651],\n",
       "       [0.02055528, 0.89209701, 0.08734771],\n",
       "       [0.14711535, 0.81082739, 0.04205726],\n",
       "       [0.02125035, 0.84507929, 0.13367037],\n",
       "       [0.00626368, 0.07458315, 0.91915317],\n",
       "       [0.00423738, 0.16535116, 0.83041145],\n",
       "       [0.0038509 , 0.16786333, 0.82828577],\n",
       "       [0.00428741, 0.17434491, 0.82136768],\n",
       "       [0.00415833, 0.12906473, 0.86677694],\n",
       "       [0.00490159, 0.19716719, 0.79793122],\n",
       "       [0.00689385, 0.3259279 , 0.66717825],\n",
       "       [0.00448947, 0.21701493, 0.7784956 ],\n",
       "       [0.00480223, 0.21517952, 0.78001825],\n",
       "       [0.00551359, 0.07895449, 0.91553192],\n",
       "       [0.00696802, 0.18450504, 0.80852694],\n",
       "       [0.00432468, 0.1895651 , 0.80611022],\n",
       "       [0.00429322, 0.15415938, 0.84154739],\n",
       "       [0.00423725, 0.16284877, 0.83291398],\n",
       "       [0.00503695, 0.08945055, 0.9055125 ],\n",
       "       [0.0052254 , 0.0904649 , 0.9043097 ],\n",
       "       [0.00441757, 0.18559148, 0.80999094],\n",
       "       [0.00865426, 0.13147976, 0.85986598],\n",
       "       [0.00839297, 0.21911444, 0.77249259],\n",
       "       [0.00638356, 0.35906878, 0.63454766],\n",
       "       [0.00432263, 0.11436358, 0.88131379],\n",
       "       [0.00501122, 0.14783897, 0.84714981],\n",
       "       [0.00643399, 0.22184964, 0.77171637],\n",
       "       [0.00610102, 0.33653234, 0.65736664],\n",
       "       [0.00446521, 0.12138626, 0.87414853],\n",
       "       [0.00430776, 0.20587306, 0.78981918],\n",
       "       [0.00671079, 0.40013612, 0.5931531 ],\n",
       "       [0.0068536 , 0.32158539, 0.67156102],\n",
       "       [0.00407109, 0.15043278, 0.84549613],\n",
       "       [0.00562511, 0.27446145, 0.71991345],\n",
       "       [0.00441847, 0.21949538, 0.77608615],\n",
       "       [0.0091662 , 0.19095189, 0.79988191],\n",
       "       [0.00415861, 0.13979038, 0.856051  ],\n",
       "       [0.00670398, 0.43808628, 0.55520973],\n",
       "       [0.0056177 , 0.24043193, 0.75395037],\n",
       "       [0.00477851, 0.1768179 , 0.81840359],\n",
       "       [0.00582773, 0.06535807, 0.9288142 ],\n",
       "       [0.00460186, 0.17189522, 0.82350292],\n",
       "       [0.00738323, 0.37439615, 0.61822062],\n",
       "       [0.00484341, 0.16022844, 0.83492815],\n",
       "       [0.00453624, 0.10210466, 0.8933591 ],\n",
       "       [0.0066272 , 0.14269349, 0.85067931],\n",
       "       [0.00423738, 0.16535116, 0.83041145],\n",
       "       [0.00418662, 0.11322984, 0.88258353],\n",
       "       [0.0050944 , 0.07771886, 0.91718674],\n",
       "       [0.00532067, 0.12404737, 0.87063195],\n",
       "       [0.00553886, 0.23196205, 0.76249909],\n",
       "       [0.00500843, 0.16929768, 0.8256939 ],\n",
       "       [0.00596822, 0.06910538, 0.9249264 ],\n",
       "       [0.00538497, 0.19000388, 0.80461115]])"
      ]
     },
     "execution_count": 35,
     "metadata": {},
     "output_type": "execute_result"
    }
   ],
   "source": [
    "np.dstack([svm_preds, log_preds]).mean(axis=2)"
   ]
  },
  {
   "cell_type": "code",
   "execution_count": 28,
   "metadata": {},
   "outputs": [],
   "source": [
    "import numpy as np"
   ]
  },
  {
   "cell_type": "code",
   "execution_count": null,
   "metadata": {},
   "outputs": [],
   "source": []
  }
 ],
 "metadata": {
  "kernelspec": {
   "display_name": "Python 3",
   "language": "python",
   "name": "python3"
  },
  "language_info": {
   "codemirror_mode": {
    "name": "ipython",
    "version": 3
   },
   "file_extension": ".py",
   "mimetype": "text/x-python",
   "name": "python",
   "nbconvert_exporter": "python",
   "pygments_lexer": "ipython3",
   "version": "3.7.2"
  }
 },
 "nbformat": 4,
 "nbformat_minor": 2
}
